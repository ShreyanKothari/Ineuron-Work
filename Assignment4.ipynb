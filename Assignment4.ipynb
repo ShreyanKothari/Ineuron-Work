{
 "cells": [
  {
   "cell_type": "markdown",
   "metadata": {},
   "source": [
    "Question 1"
   ]
  },
  {
   "cell_type": "code",
   "execution_count": 1,
   "metadata": {},
   "outputs": [
    {
     "name": "stdout",
     "output_type": "stream",
     "text": [
      "enter sides of triangle\n",
      "1\n",
      "2\n",
      "3\n"
     ]
    },
    {
     "data": {
      "text/plain": [
       "0.0"
      ]
     },
     "execution_count": 1,
     "metadata": {},
     "output_type": "execute_result"
    }
   ],
   "source": [
    "class aot:\n",
    "    def __init__(self,a,b,c):\n",
    "        self.a=a\n",
    "        self.b=b\n",
    "        self.c=c\n",
    "class formula(aot):\n",
    "    def __init__(self,*args):\n",
    "        super(formula,self).__init__(*args)\n",
    "    def calculate_area(self):\n",
    "        s=(self.a+self.b+self.c)/2\n",
    "        area = (s*(s-self.a)*(s-self.b)*(s-self.c))**0.5\n",
    "        return area\n",
    "print(\"enter sides of triangle\")\n",
    "a=int(input())\n",
    "b=int(input())\n",
    "c=int(input())\n",
    "obj=formula(a,b,c)\n",
    "obj.calculate_area()\n",
    "  \n",
    "        "
   ]
  },
  {
   "cell_type": "markdown",
   "metadata": {},
   "source": [
    "Question 2: Write a function filter_long_words() that takes a list of words and an integer n and returns\n",
    "the list of words that are longer than n. \n"
   ]
  },
  {
   "cell_type": "code",
   "execution_count": 2,
   "metadata": {},
   "outputs": [
    {
     "name": "stdout",
     "output_type": "stream",
     "text": [
      "Enter the number of words you want in list  5\n",
      "Enter the 0 element  shreyan\n",
      "Enter the 1 element  kothari\n",
      "Enter the 2 element  kiya\n",
      "Enter the 3 element  ramesh\n",
      "Enter the 4 element  hi\n",
      "Enter the number you want to compare with 1234\n",
      "shreyan\n",
      "kothari\n",
      "ramesh\n"
     ]
    }
   ],
   "source": [
    "n=int(input(\"Enter the number of words you want in list  \"))\n",
    "\n",
    "words=[]\n",
    "for i in range(n):\n",
    "    a =input(\"Enter the \" + str(i)+\" element  \")\n",
    "    words.append(a)\n",
    "m=input(\"Enter the number you want to compare with \")\n",
    "def filter_long_words(m):\n",
    "    for j in words:\n",
    "        if(len(j)>len(m)):\n",
    "            print(j)\n",
    "    \n",
    "filter_long_words(m)\n"
   ]
  },
  {
   "cell_type": "markdown",
   "metadata": {},
   "source": [
    "Question 3: Write a Python program using function concept that maps list of words into a list of integers\n",
    "representing the lengths of the corresponding words."
   ]
  },
  {
   "cell_type": "code",
   "execution_count": 6,
   "metadata": {},
   "outputs": [
    {
     "data": {
      "text/plain": [
       "[6, 3, 5, 4, 6, 6]"
      ]
     },
     "execution_count": 6,
     "metadata": {},
     "output_type": "execute_result"
    }
   ],
   "source": [
    "list=[\"ramesh\",\"ram\",\"shyam\",\"hari\",\"harish\",\"kairav\"]\n",
    "length = []\n",
    "for i in list:\n",
    "    a=len(i)\n",
    "    length.append(a)\n",
    "length"
   ]
  },
  {
   "cell_type": "markdown",
   "metadata": {},
   "source": [
    "Question 4: Write a Python function which takes a character (i.e. a string of length 1) and returns True if\n",
    "it is a vowel, False otherwise."
   ]
  },
  {
   "cell_type": "code",
   "execution_count": 9,
   "metadata": {},
   "outputs": [
    {
     "name": "stdout",
     "output_type": "stream",
     "text": [
      "Enter character a\n",
      "enteed charcater is vowel\n"
     ]
    }
   ],
   "source": [
    "vowel=['a','e','i','o','u']\n",
    "char=input(\"Enter character \")\n",
    "if char in vowel:\n",
    "    print(\"entered charcater is vowel\")\n",
    "else:\n",
    "    print(\"entered character is not vowel\")\n",
    "\n",
    "\n"
   ]
  },
  {
   "cell_type": "code",
   "execution_count": null,
   "metadata": {},
   "outputs": [],
   "source": []
  }
 ],
 "metadata": {
  "kernelspec": {
   "display_name": "Python 3",
   "language": "python",
   "name": "python3"
  },
  "language_info": {
   "codemirror_mode": {
    "name": "ipython",
    "version": 3
   },
   "file_extension": ".py",
   "mimetype": "text/x-python",
   "name": "python",
   "nbconvert_exporter": "python",
   "pygments_lexer": "ipython3",
   "version": "3.7.6"
  }
 },
 "nbformat": 4,
 "nbformat_minor": 4
}
